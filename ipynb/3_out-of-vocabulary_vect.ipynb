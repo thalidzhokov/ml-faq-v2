{
 "cells": [
  {
   "cell_type": "markdown",
   "metadata": {},
   "source": [
    "### Векторизация слов из нашего датасета"
   ]
  },
  {
   "cell_type": "code",
   "execution_count": 30,
   "metadata": {
    "collapsed": true
   },
   "outputs": [],
   "source": [
    "import spacy\n",
    "import csv\n",
    "import pandas as pd\n",
    "#from pymystem3 import Mystem\n",
    "import re\n",
    "import os\n",
    "import numpy as np\n",
    "import gensim"
   ]
  },
  {
   "cell_type": "code",
   "execution_count": 2,
   "metadata": {
    "collapsed": true
   },
   "outputs": [],
   "source": [
    "#это я для себя, чтобы пакеты точно работали, вообще не нужно\n",
    "import sys\n",
    "sys.path.append('C:\\Program Files\\Anaconda3\\Lib\\site-packages')"
   ]
  },
  {
   "cell_type": "code",
   "execution_count": 3,
   "metadata": {
    "collapsed": true
   },
   "outputs": [],
   "source": [
    "import warnings\n",
    "warnings.filterwarnings(action='ignore', category=UserWarning, module='gensim')"
   ]
  },
  {
   "cell_type": "code",
   "execution_count": 4,
   "metadata": {
    "scrolled": true
   },
   "outputs": [
    {
     "data": {
      "text/html": [
       "<div>\n",
       "<style>\n",
       "    .dataframe thead tr:only-child th {\n",
       "        text-align: right;\n",
       "    }\n",
       "\n",
       "    .dataframe thead th {\n",
       "        text-align: left;\n",
       "    }\n",
       "\n",
       "    .dataframe tbody tr th {\n",
       "        vertical-align: top;\n",
       "    }\n",
       "</style>\n",
       "<table border=\"1\" class=\"dataframe\">\n",
       "  <thead>\n",
       "    <tr style=\"text-align: right;\">\n",
       "      <th></th>\n",
       "      <th>text_question</th>\n",
       "      <th>text_answer</th>\n",
       "      <th>text_title</th>\n",
       "    </tr>\n",
       "  </thead>\n",
       "  <tbody>\n",
       "    <tr>\n",
       "      <th>0</th>\n",
       "      <td>Играя онлайн, какими средствами ввода-вывода и...</td>\n",
       "      <td>Зависит от количества контор в которых вы соби...</td>\n",
       "      <td>Ввод-вывод средств</td>\n",
       "    </tr>\n",
       "    <tr>\n",
       "      <th>1</th>\n",
       "      <td>Сколько вам платят ВХ и Сбо за пятерки в рейти...</td>\n",
       "      <td>Вот &lt;a href=\"https://bookmaker-ratings.ru/rasp...</td>\n",
       "      <td>Сколько стоит пятерка на РБ?</td>\n",
       "    </tr>\n",
       "    <tr>\n",
       "      <th>2</th>\n",
       "      <td>Вам нужны сотрудники? Опыт - два года на \"Чемп...</td>\n",
       "      <td>Добрый день, Максим!\\n\\nОтправьте свое резюме ...</td>\n",
       "      <td>Работа</td>\n",
       "    </tr>\n",
       "    <tr>\n",
       "      <th>3</th>\n",
       "      <td>Считается ли вилкой ставка до матча на событие...</td>\n",
       "      <td>Разумеется, что нет. Во-первых, в live, во все...</td>\n",
       "      <td>Вилки</td>\n",
       "    </tr>\n",
       "    <tr>\n",
       "      <th>4</th>\n",
       "      <td>Здравствуйте, читал пост о порезке счетов, воз...</td>\n",
       "      <td>Можно выигрывать если ставить например провере...</td>\n",
       "      <td>Сколько можно выигрывать</td>\n",
       "    </tr>\n",
       "    <tr>\n",
       "      <th>5</th>\n",
       "      <td>Я правильно понимаю:-,если меня спалила контор...</td>\n",
       "      <td>Мультиаккаунтинг нельзя доказать, поэтому плат...</td>\n",
       "      <td>вопрос по сути:-)</td>\n",
       "    </tr>\n",
       "    <tr>\n",
       "      <th>6</th>\n",
       "      <td>В ответе на мою претензию указанно, что я отно...</td>\n",
       "      <td>Дайте ссылку на вашу жалобу пожалуйста, я посм...</td>\n",
       "      <td>претензия</td>\n",
       "    </tr>\n",
       "    <tr>\n",
       "      <th>7</th>\n",
       "      <td>Должны ли конторы давать возвраты по договорны...</td>\n",
       "      <td>Согласен с самым первым комментарием. Дело в т...</td>\n",
       "      <td>Договорные матчи</td>\n",
       "    </tr>\n",
       "    <tr>\n",
       "      <th>8</th>\n",
       "      <td>В каких конторах возможен вывод средств через ...</td>\n",
       "      <td>Эта информация есть на нашем сайте!&lt;br /&gt;\\nhtt...</td>\n",
       "      <td>Western Union</td>\n",
       "    </tr>\n",
       "    <tr>\n",
       "      <th>9</th>\n",
       "      <td>Бк мачбук заблокировала мой счет, помогите раз...</td>\n",
       "      <td>Заполните пожалуйста форму&lt;br /&gt;\\nhttps://book...</td>\n",
       "      <td>помогите</td>\n",
       "    </tr>\n",
       "  </tbody>\n",
       "</table>\n",
       "</div>"
      ],
      "text/plain": [
       "                                       text_question  \\\n",
       "0  Играя онлайн, какими средствами ввода-вывода и...   \n",
       "1  Сколько вам платят ВХ и Сбо за пятерки в рейти...   \n",
       "2  Вам нужны сотрудники? Опыт - два года на \"Чемп...   \n",
       "3  Считается ли вилкой ставка до матча на событие...   \n",
       "4  Здравствуйте, читал пост о порезке счетов, воз...   \n",
       "5  Я правильно понимаю:-,если меня спалила контор...   \n",
       "6  В ответе на мою претензию указанно, что я отно...   \n",
       "7  Должны ли конторы давать возвраты по договорны...   \n",
       "8  В каких конторах возможен вывод средств через ...   \n",
       "9  Бк мачбук заблокировала мой счет, помогите раз...   \n",
       "\n",
       "                                         text_answer  \\\n",
       "0  Зависит от количества контор в которых вы соби...   \n",
       "1  Вот <a href=\"https://bookmaker-ratings.ru/rasp...   \n",
       "2  Добрый день, Максим!\\n\\nОтправьте свое резюме ...   \n",
       "3  Разумеется, что нет. Во-первых, в live, во все...   \n",
       "4  Можно выигрывать если ставить например провере...   \n",
       "5  Мультиаккаунтинг нельзя доказать, поэтому плат...   \n",
       "6  Дайте ссылку на вашу жалобу пожалуйста, я посм...   \n",
       "7  Согласен с самым первым комментарием. Дело в т...   \n",
       "8  Эта информация есть на нашем сайте!<br />\\nhtt...   \n",
       "9  Заполните пожалуйста форму<br />\\nhttps://book...   \n",
       "\n",
       "                     text_title  \n",
       "0            Ввод-вывод средств  \n",
       "1  Сколько стоит пятерка на РБ?  \n",
       "2                        Работа  \n",
       "3                         Вилки  \n",
       "4      Сколько можно выигрывать  \n",
       "5             вопрос по сути:-)  \n",
       "6                     претензия  \n",
       "7              Договорные матчи  \n",
       "8                 Western Union  \n",
       "9                      помогите  "
      ]
     },
     "execution_count": 4,
     "metadata": {},
     "output_type": "execute_result"
    }
   ],
   "source": [
    "df = pd.read_csv('questions_answers_titles.csv',sep = ';',usecols=['text_question', 'text_answer', 'text_title'])\n",
    "df[:10]"
   ]
  },
  {
   "cell_type": "markdown",
   "metadata": {},
   "source": [
    "небольшой препроцессинг (нужно лучше чистить)"
   ]
  },
  {
   "cell_type": "code",
   "execution_count": 5,
   "metadata": {
    "collapsed": true
   },
   "outputs": [],
   "source": [
    "for name in df.columns.tolist():\n",
    "    df[name].replace(to_replace=r\"[a-zA-Z\\n\\r\\\\\\*\\#\\%\\d+\\/\\@\\>\\<\\(\\)\\$\\_\\€]\", value=r\"\", regex=True, inplace=True)\n",
    "    df[name].replace(to_replace=r\"[?\\!\\,\\.\\;\\:\\«\\»\\'\\\"\\-\\=]\", value=r\" \", regex=True, inplace=True)\n",
    "    df[name].replace(to_replace=r\"[\\s+]\", value=r\" \", regex=True, inplace=True)"
   ]
  },
  {
   "cell_type": "code",
   "execution_count": 6,
   "metadata": {
    "collapsed": true
   },
   "outputs": [],
   "source": [
    "df.to_csv('clean_df.csv', sep=';',encoding='utf-8', index = False,header=False)"
   ]
  },
  {
   "cell_type": "code",
   "execution_count": 7,
   "metadata": {
    "collapsed": true
   },
   "outputs": [],
   "source": [
    "with open('cleantxt.txt', \"w\",encoding=\"utf8\") as my_output_file:\n",
    "    with open('clean_df.csv', \"r\",encoding=\"utf8\") as my_input_file:\n",
    "        [ my_output_file.write(\"\".join(row)+'\\n') for row in csv.reader(my_input_file)]\n",
    "    my_output_file.close()"
   ]
  },
  {
   "cell_type": "markdown",
   "metadata": {},
   "source": [
    "#### Проверяем вхождение слов в словаре, если не входят, то мы их векторизуем"
   ]
  },
  {
   "cell_type": "code",
   "execution_count": 8,
   "metadata": {
    "collapsed": true
   },
   "outputs": [],
   "source": [
    "def slurp(path):\n",
    "    with open(path, 'r', encoding = 'utf-8') as file_object:\n",
    "        return file_object.read()"
   ]
  },
  {
   "cell_type": "code",
   "execution_count": 9,
   "metadata": {
    "collapsed": true
   },
   "outputs": [],
   "source": [
    "rucorpora_dict = slurp('dict.opcorpora.txt')"
   ]
  },
  {
   "cell_type": "code",
   "execution_count": 10,
   "metadata": {
    "collapsed": true
   },
   "outputs": [],
   "source": [
    "rucorpora_dict = re.findall(r'[А-ЯЁ]+', rucorpora_dict)\n",
    "rucorpora_dict_low = [i.lower() for i in rucorpora_dict]"
   ]
  },
  {
   "cell_type": "code",
   "execution_count": 11,
   "metadata": {
    "collapsed": true
   },
   "outputs": [],
   "source": [
    "with open('cleantxt.txt', \"r\",encoding=\"utf-8\") as my_file:\n",
    "    texts = [line.lower().split(' ') for line in my_file]"
   ]
  },
  {
   "cell_type": "code",
   "execution_count": 12,
   "metadata": {
    "collapsed": true
   },
   "outputs": [],
   "source": [
    "def list_out_list(lstlst):\n",
    "    all=[]\n",
    "    for lst in lstlst:\n",
    "        all.extend(lst)\n",
    "    return all"
   ]
  },
  {
   "cell_type": "code",
   "execution_count": 13,
   "metadata": {
    "collapsed": true
   },
   "outputs": [],
   "source": [
    "texts_all = list_out_list(texts)"
   ]
  },
  {
   "cell_type": "markdown",
   "metadata": {},
   "source": [
    "итоговый список слов для векторизации"
   ]
  },
  {
   "cell_type": "code",
   "execution_count": 56,
   "metadata": {},
   "outputs": [
    {
     "data": {
      "text/plain": [
       "12699"
      ]
     },
     "execution_count": 56,
     "metadata": {},
     "output_type": "execute_result"
    }
   ],
   "source": [
    "result=list(set(texts_all) & set(rucorpora_dict_low))\n",
    "len(result)"
   ]
  },
  {
   "cell_type": "code",
   "execution_count": 15,
   "metadata": {
    "collapsed": true
   },
   "outputs": [],
   "source": [
    "with open('list_of_words.txt', \"w\",encoding=\"utf8\") as file:\n",
    "    for row in result:\n",
    "        file.write(row +'\\n')"
   ]
  },
  {
   "cell_type": "markdown",
   "metadata": {},
   "source": [
    "#### Делаем векторы для нашего списка слов"
   ]
  },
  {
   "cell_type": "code",
   "execution_count": 16,
   "metadata": {
    "collapsed": true
   },
   "outputs": [],
   "source": [
    "#это работает довольно долго\n",
    "from gensim.models.wrappers import FastText\n",
    "model = FastText.load_fasttext_format('cc.ru.300.bin')"
   ]
  },
  {
   "cell_type": "code",
   "execution_count": 17,
   "metadata": {},
   "outputs": [
    {
     "name": "stdout",
     "output_type": "stream",
     "text": [
      "I got a KeyError - reason \"гуам\"\n",
      "I got a KeyError - reason \"умео\"\n",
      "I got a KeyError - reason \"аик\"\n",
      "I got a KeyError - reason \"арн\"\n"
     ]
    }
   ],
   "source": [
    "vects=[]\n",
    "errors=[]\n",
    "for word in result:\n",
    "    try:\n",
    "        v = model[word]\n",
    "        vects.append(v)\n",
    "    except KeyError:\n",
    "        print('I got a KeyError - reason \"%s\"' % str(word))\n",
    "        errors.append(word)"
   ]
  },
  {
   "cell_type": "code",
   "execution_count": 54,
   "metadata": {},
   "outputs": [
    {
     "name": "stdout",
     "output_type": "stream",
     "text": [
      "12695\n",
      "12699\n"
     ]
    }
   ],
   "source": [
    "print(len(vects)) #сколько у нас слов векторизовано\n",
    "print(len(result)) #сколько у нас слов было до векторизации (с теми, для которых нет nграмм)"
   ]
  },
  {
   "cell_type": "code",
   "execution_count": 40,
   "metadata": {},
   "outputs": [
    {
     "data": {
      "text/plain": [
       "['гуам', 'умео', 'аик', 'арн']"
      ]
     },
     "execution_count": 40,
     "metadata": {},
     "output_type": "execute_result"
    }
   ],
   "source": [
    "errors"
   ]
  },
  {
   "cell_type": "code",
   "execution_count": 58,
   "metadata": {
    "collapsed": true
   },
   "outputs": [],
   "source": [
    "for word in result:\n",
    "    for item in errors:\n",
    "        if item==word:\n",
    "            result.remove(word)"
   ]
  },
  {
   "cell_type": "code",
   "execution_count": 61,
   "metadata": {},
   "outputs": [
    {
     "data": {
      "text/plain": [
       "12695"
      ]
     },
     "execution_count": 61,
     "metadata": {},
     "output_type": "execute_result"
    }
   ],
   "source": [
    "len(result) #после удаления невекторизованных слов"
   ]
  },
  {
   "cell_type": "code",
   "execution_count": 48,
   "metadata": {
    "collapsed": true
   },
   "outputs": [],
   "source": [
    "#сохраним сначала массивы векторов\n",
    "with open('vectors.txt', \"w\",encoding=\"utf8\") as output:\n",
    "            np.savetxt(output, vects, newline='\\n')"
   ]
  },
  {
   "cell_type": "code",
   "execution_count": 64,
   "metadata": {
    "collapsed": true
   },
   "outputs": [],
   "source": [
    "#запишем к ним слова, которые векторизовались, чтобы было как в оригинальном файле cc.ru.300.vec\n",
    "with open('vectors.txt', \"r\",encoding=\"utf8\") as inputfile:\n",
    "    with open('vectors2.txt', \"w\",encoding=\"utf8\") as outputfile:\n",
    "        a = inputfile.readline()\n",
    "        for word in result:\n",
    "            outputfile.write(word+' '+a)\n",
    "    "
   ]
  },
  {
   "cell_type": "markdown",
   "metadata": {},
   "source": [
    "#### Дописываем наши векторы к cc.ru.300.vec"
   ]
  },
  {
   "cell_type": "code",
   "execution_count": null,
   "metadata": {
    "collapsed": true
   },
   "outputs": [],
   "source": [
    "with open('cc.ru.300copy.vec', 'a', encoding=\"utf8\") as bigfile:\n",
    "    with open('vectors2.txt', \"r\",encoding=\"utf8\") as smallfile:\n",
    "        our_vects = smallfile.read()\n",
    "        bigfile.write(our_vects)"
   ]
  },
  {
   "cell_type": "code",
   "execution_count": null,
   "metadata": {
    "collapsed": true
   },
   "outputs": [],
   "source": [
    "# изменяем первую строку на актуальное количество слов\n",
    "with open('cc.ru.300copy.vec', 'r+', encoding=\"utf-8\") as f:\n",
    "    line = next(f)\n",
    "    count = int(line[0:7])\n",
    "    string = str(count + len(result))\n",
    "    old = str(count)+' 300\\n'\n",
    "    new = string + ' 300\\n' \n",
    "    f.seek(0) \n",
    "    f.write(line.replace(old, new))"
   ]
  }
 ],
 "metadata": {
  "kernelspec": {
   "display_name": "Python 3",
   "language": "python",
   "name": "python3"
  },
  "language_info": {
   "codemirror_mode": {
    "name": "ipython",
    "version": 3
   },
   "file_extension": ".py",
   "mimetype": "text/x-python",
   "name": "python",
   "nbconvert_exporter": "python",
   "pygments_lexer": "ipython3",
   "version": "3.6.2"
  }
 },
 "nbformat": 4,
 "nbformat_minor": 2
}
